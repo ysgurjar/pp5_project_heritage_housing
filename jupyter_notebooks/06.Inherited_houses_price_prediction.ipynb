{
  "cells": [
    {
      "cell_type": "markdown",
      "metadata": {
        "id": "0aStgWSO0E0E"
      },
      "source": [
        "# Inherited House Price Prediction"
      ]
    },
    {
      "cell_type": "markdown",
      "metadata": {
        "id": "1eLEkw5O0ECa"
      },
      "source": [
        "## Objectives\n",
        "\n",
        "* Use the Inherited model to predict the prices of inherited properties\n",
        "\n",
        "## Inputs\n",
        "\n",
        "* Trained and vaidated ML model, inherited houses data file\n",
        "\n",
        "## Outputs\n",
        "\n",
        "* outputs/datasets/predict_sale_price/predicted_prices_for_inherited_houses.csv"
      ]
    },
    {
      "cell_type": "markdown",
      "metadata": {
        "id": "9uWZXH9LwoQg"
      },
      "source": [
        "---"
      ]
    },
    {
      "cell_type": "markdown",
      "metadata": {
        "id": "cqP-UeN-z3i2"
      },
      "source": [
        "# Change working directory"
      ]
    },
    {
      "cell_type": "markdown",
      "metadata": {},
      "source": [
        "* We are assuming you will store the notebooks in a subfolder, therefore when running the notebook in the editor, you will need to change the working directory"
      ]
    },
    {
      "cell_type": "markdown",
      "metadata": {
        "id": "aOGIGS-uz3i2"
      },
      "source": [
        "We need to change the working directory from its current folder to its parent folder\n",
        "* We access the current directory with os.getcwd()"
      ]
    },
    {
      "cell_type": "code",
      "execution_count": 1,
      "metadata": {
        "id": "wZfF_j-Bz3i4",
        "outputId": "66943449-1436-4c3d-85c7-b85f9f78349b"
      },
      "outputs": [
        {
          "data": {
            "text/plain": [
              "'/workspace/pp5_project_heritage_housing/jupyter_notebooks'"
            ]
          },
          "execution_count": 1,
          "metadata": {},
          "output_type": "execute_result"
        }
      ],
      "source": [
        "import os\n",
        "current_dir = os.getcwd()\n",
        "current_dir"
      ]
    },
    {
      "cell_type": "markdown",
      "metadata": {
        "id": "9MWW8E7lz3i7"
      },
      "source": [
        "We want to make the parent of the current directory the new current directory\n",
        "* os.path.dirname() gets the parent directory\n",
        "* os.chir() defines the new current directory"
      ]
    },
    {
      "cell_type": "code",
      "execution_count": 2,
      "metadata": {
        "id": "TwHsQRWjz3i9",
        "outputId": "86849db3-cd2f-4cc5-ebb8-2d0caafa1a2c"
      },
      "outputs": [
        {
          "name": "stdout",
          "output_type": "stream",
          "text": [
            "You set a new current directory\n"
          ]
        }
      ],
      "source": [
        "os.chdir(os.path.dirname(current_dir))\n",
        "print(\"You set a new current directory\")"
      ]
    },
    {
      "cell_type": "markdown",
      "metadata": {
        "id": "M_xPk_Ijz3i-"
      },
      "source": [
        "Confirm the new current directory"
      ]
    },
    {
      "cell_type": "code",
      "execution_count": 3,
      "metadata": {
        "id": "vz3S-_kjz3jA",
        "outputId": "00b79ae4-75d0-4a96-d193-ac9ef9847ea2"
      },
      "outputs": [
        {
          "data": {
            "text/plain": [
              "'/workspace/pp5_project_heritage_housing'"
            ]
          },
          "execution_count": 3,
          "metadata": {},
          "output_type": "execute_result"
        }
      ],
      "source": [
        "current_dir = os.getcwd()\n",
        "current_dir"
      ]
    },
    {
      "cell_type": "markdown",
      "metadata": {},
      "source": [
        "Import cleaned dataset and split it into train and test set"
      ]
    },
    {
      "cell_type": "code",
      "execution_count": 4,
      "metadata": {},
      "outputs": [
        {
          "name": "stdout",
          "output_type": "stream",
          "text": [
            "* Train set: (1168, 23) (1168,) \n",
            "* Test set: (292, 23) (292,)\n"
          ]
        }
      ],
      "source": [
        "import pandas as pd\n",
        "from sklearn.model_selection import train_test_split\n",
        "\n",
        "# read data\n",
        "df = pd.read_csv(\"outputs/datasets/collection/house_price_records.csv\") \n",
        "\n",
        "# split data 80/20\n",
        "X_train, X_test,y_train, y_test = train_test_split(\n",
        "                                    df.drop(['SalePrice'], axis=1) ,\n",
        "                                    df['SalePrice'],\n",
        "                                    test_size=0.2,\n",
        "                                    random_state=0\n",
        "                                    )\n",
        "\n",
        "print(\"* Train set:\", X_train.shape, y_train.shape, \"\\n* Test set:\",  X_test.shape, y_test.shape)\n"
      ]
    },
    {
      "cell_type": "markdown",
      "metadata": {},
      "source": [
        "Import pipeline"
      ]
    },
    {
      "cell_type": "code",
      "execution_count": 5,
      "metadata": {},
      "outputs": [],
      "source": [
        "from sklearn.pipeline import Pipeline\n",
        "\n",
        "### Data Cleaning\n",
        "from feature_engine.imputation import MeanMedianImputer\n",
        "from feature_engine.selection import DropFeatures\n",
        "from feature_engine.imputation import CategoricalImputer\n",
        "from feature_engine.imputation import RandomSampleImputer\n",
        "\n",
        "### Feature Engineering\n",
        "from feature_engine.encoding import OrdinalEncoder\n",
        "from feature_engine.outliers import Winsorizer\n",
        "\n",
        "### Feature Scaling\n",
        "from sklearn.preprocessing import StandardScaler\n",
        "\n",
        "### Feature Selection\n",
        "from sklearn.feature_selection import SelectFromModel\n",
        "\n",
        "### Ml Algorithm\n",
        "from sklearn.ensemble import GradientBoostingRegressor\n",
        "\n",
        "### Create pipeline\n",
        "ml_pipeline = Pipeline([\n",
        "    # Data cleaning (copied from Data Cleaning notebook)\n",
        "    ( 'drop',  DropFeatures(features_to_drop=['EnclosedPorch', 'GarageYrBlt', 'WoodDeckSF'])),\n",
        "    ( 'categorical',  CategoricalImputer(imputation_method='missing',\n",
        "                                     fill_value='None',\n",
        "                                     variables=['GarageFinish'])),\n",
        "    ( 'random_sample',  RandomSampleImputer(\n",
        "                                     variables=['LotFrontage' ,\n",
        "                                     'BsmtFinType1','2ndFlrSF','MasVnrArea'])),\n",
        "    ( 'mean',  MeanMedianImputer(imputation_method='mean',\n",
        "                                     variables=['BedroomAbvGr']) ),\n",
        "\n",
        "    # Feature engineering (copied from Feature Engineering notebook)\n",
        "    ( 'OrdinalCategoricalEncoder', OrdinalEncoder(encoding_method='arbitrary',\n",
        "                                                variables = ['BsmtExposure',\n",
        "                                                            'BsmtFinType1',\n",
        "                                                            'GarageFinish',\n",
        "                                                            'KitchenQual'])),\n",
        "    (\"Winsoriser_iqr\",Winsorizer(capping_method='iqr', fold=3, tail='both', \n",
        "                                                  variables=['1stFlrSF',\n",
        "                                                            'GarageArea',\n",
        "                                                            'GrLivArea',\n",
        "                                                            'YearBuilt',\n",
        "                                                            'TotalBsmtSF',])),\n",
        "    (\"feat_scaling\", StandardScaler()),\n",
        "    (\"feat_selection\",  SelectFromModel(GradientBoostingRegressor(\n",
        "                                        random_state=0,\n",
        "                                        learning_rate=0.1,\n",
        "                                        max_depth=3,\n",
        "                                        min_samples_leaf=50,\n",
        "                                        min_samples_split=2,\n",
        "                                        n_estimators=140), threshold=\"0.75*mean\")),\n",
        "    (\"model\", GradientBoostingRegressor(random_state=0,\n",
        "                                        learning_rate=0.1,\n",
        "                                        max_depth=3,\n",
        "                                        min_samples_leaf=50,\n",
        "                                        min_samples_split=2,\n",
        "                                        n_estimators=140)),\n",
        "    ])"
      ]
    },
    {
      "cell_type": "code",
      "execution_count": 6,
      "metadata": {},
      "outputs": [
        {
          "data": {
            "text/plain": [
              "Pipeline(steps=[('drop',\n",
              "                 DropFeatures(features_to_drop=['EnclosedPorch', 'GarageYrBlt',\n",
              "                                                'WoodDeckSF'])),\n",
              "                ('categorical',\n",
              "                 CategoricalImputer(fill_value='None',\n",
              "                                    variables=['GarageFinish'])),\n",
              "                ('random_sample',\n",
              "                 RandomSampleImputer(variables=['LotFrontage', 'BsmtFinType1',\n",
              "                                                '2ndFlrSF', 'MasVnrArea'])),\n",
              "                ('mean',\n",
              "                 MeanMedianImputer(imputation_method='mean',\n",
              "                                   variables=['B...\n",
              "                 Winsorizer(capping_method='iqr', tail='both',\n",
              "                            variables=['1stFlrSF', 'GarageArea', 'GrLivArea',\n",
              "                                       'YearBuilt', 'TotalBsmtSF'])),\n",
              "                ('feat_scaling', StandardScaler()),\n",
              "                ('feat_selection',\n",
              "                 SelectFromModel(estimator=GradientBoostingRegressor(min_samples_leaf=50,\n",
              "                                                                     n_estimators=140,\n",
              "                                                                     random_state=0),\n",
              "                                 threshold='0.75*mean')),\n",
              "                ('model',\n",
              "                 GradientBoostingRegressor(min_samples_leaf=50,\n",
              "                                           n_estimators=140, random_state=0))])"
            ]
          },
          "execution_count": 6,
          "metadata": {},
          "output_type": "execute_result"
        }
      ],
      "source": [
        "# fit pipeline\n",
        "ml_pipeline.fit(X_train, y_train)"
      ]
    },
    {
      "cell_type": "code",
      "execution_count": 7,
      "metadata": {},
      "outputs": [
        {
          "name": "stdout",
          "output_type": "stream",
          "text": [
            "Training set accuracy: 0.8739\n",
            "Test set accuracy: 0.7913\n"
          ]
        }
      ],
      "source": [
        "import numpy as np\n",
        "\n",
        "print('Training set accuracy:', np.round(ml_pipeline.score(X_train, y_train), 4))\n",
        "print('Test set accuracy:' , np.round(ml_pipeline.score(X_test, y_test), 4))"
      ]
    },
    {
      "cell_type": "markdown",
      "metadata": {},
      "source": [
        "The training accuracy is as estimated from modelling and evalutaion workbook. So, we can move forward with prediction."
      ]
    },
    {
      "cell_type": "markdown",
      "metadata": {},
      "source": [
        "## Inherited house price prediction"
      ]
    },
    {
      "cell_type": "code",
      "execution_count": 8,
      "metadata": {},
      "outputs": [
        {
          "data": {
            "text/html": [
              "<div>\n",
              "<style scoped>\n",
              "    .dataframe tbody tr th:only-of-type {\n",
              "        vertical-align: middle;\n",
              "    }\n",
              "\n",
              "    .dataframe tbody tr th {\n",
              "        vertical-align: top;\n",
              "    }\n",
              "\n",
              "    .dataframe thead th {\n",
              "        text-align: right;\n",
              "    }\n",
              "</style>\n",
              "<table border=\"1\" class=\"dataframe\">\n",
              "  <thead>\n",
              "    <tr style=\"text-align: right;\">\n",
              "      <th></th>\n",
              "      <th>1stFlrSF</th>\n",
              "      <th>2ndFlrSF</th>\n",
              "      <th>BedroomAbvGr</th>\n",
              "      <th>BsmtExposure</th>\n",
              "      <th>BsmtFinSF1</th>\n",
              "      <th>BsmtFinType1</th>\n",
              "      <th>BsmtUnfSF</th>\n",
              "      <th>EnclosedPorch</th>\n",
              "      <th>GarageArea</th>\n",
              "      <th>GarageFinish</th>\n",
              "      <th>...</th>\n",
              "      <th>LotFrontage</th>\n",
              "      <th>MasVnrArea</th>\n",
              "      <th>OpenPorchSF</th>\n",
              "      <th>OverallCond</th>\n",
              "      <th>OverallQual</th>\n",
              "      <th>TotalBsmtSF</th>\n",
              "      <th>WoodDeckSF</th>\n",
              "      <th>YearBuilt</th>\n",
              "      <th>YearRemodAdd</th>\n",
              "      <th>Predicted Sale Price</th>\n",
              "    </tr>\n",
              "  </thead>\n",
              "  <tbody>\n",
              "    <tr>\n",
              "      <th>0</th>\n",
              "      <td>896</td>\n",
              "      <td>0</td>\n",
              "      <td>2</td>\n",
              "      <td>No</td>\n",
              "      <td>468.0</td>\n",
              "      <td>Rec</td>\n",
              "      <td>270.0</td>\n",
              "      <td>0</td>\n",
              "      <td>730.0</td>\n",
              "      <td>Unf</td>\n",
              "      <td>...</td>\n",
              "      <td>80.0</td>\n",
              "      <td>0.0</td>\n",
              "      <td>0</td>\n",
              "      <td>6</td>\n",
              "      <td>5</td>\n",
              "      <td>882.0</td>\n",
              "      <td>140</td>\n",
              "      <td>1961</td>\n",
              "      <td>1961</td>\n",
              "      <td>129451.0</td>\n",
              "    </tr>\n",
              "    <tr>\n",
              "      <th>1</th>\n",
              "      <td>1329</td>\n",
              "      <td>0</td>\n",
              "      <td>3</td>\n",
              "      <td>No</td>\n",
              "      <td>923.0</td>\n",
              "      <td>ALQ</td>\n",
              "      <td>406.0</td>\n",
              "      <td>0</td>\n",
              "      <td>312.0</td>\n",
              "      <td>Unf</td>\n",
              "      <td>...</td>\n",
              "      <td>81.0</td>\n",
              "      <td>108.0</td>\n",
              "      <td>36</td>\n",
              "      <td>6</td>\n",
              "      <td>6</td>\n",
              "      <td>1329.0</td>\n",
              "      <td>393</td>\n",
              "      <td>1958</td>\n",
              "      <td>1958</td>\n",
              "      <td>157565.0</td>\n",
              "    </tr>\n",
              "    <tr>\n",
              "      <th>2</th>\n",
              "      <td>928</td>\n",
              "      <td>701</td>\n",
              "      <td>3</td>\n",
              "      <td>No</td>\n",
              "      <td>791.0</td>\n",
              "      <td>GLQ</td>\n",
              "      <td>137.0</td>\n",
              "      <td>0</td>\n",
              "      <td>482.0</td>\n",
              "      <td>Fin</td>\n",
              "      <td>...</td>\n",
              "      <td>74.0</td>\n",
              "      <td>0.0</td>\n",
              "      <td>34</td>\n",
              "      <td>5</td>\n",
              "      <td>5</td>\n",
              "      <td>928.0</td>\n",
              "      <td>212</td>\n",
              "      <td>1997</td>\n",
              "      <td>1998</td>\n",
              "      <td>166748.0</td>\n",
              "    </tr>\n",
              "    <tr>\n",
              "      <th>3</th>\n",
              "      <td>926</td>\n",
              "      <td>678</td>\n",
              "      <td>3</td>\n",
              "      <td>No</td>\n",
              "      <td>602.0</td>\n",
              "      <td>GLQ</td>\n",
              "      <td>324.0</td>\n",
              "      <td>0</td>\n",
              "      <td>470.0</td>\n",
              "      <td>Fin</td>\n",
              "      <td>...</td>\n",
              "      <td>78.0</td>\n",
              "      <td>20.0</td>\n",
              "      <td>36</td>\n",
              "      <td>6</td>\n",
              "      <td>6</td>\n",
              "      <td>926.0</td>\n",
              "      <td>360</td>\n",
              "      <td>1998</td>\n",
              "      <td>1998</td>\n",
              "      <td>177049.0</td>\n",
              "    </tr>\n",
              "  </tbody>\n",
              "</table>\n",
              "<p>4 rows × 24 columns</p>\n",
              "</div>"
            ],
            "text/plain": [
              "   1stFlrSF  2ndFlrSF  BedroomAbvGr BsmtExposure  BsmtFinSF1 BsmtFinType1  \\\n",
              "0       896         0             2           No       468.0          Rec   \n",
              "1      1329         0             3           No       923.0          ALQ   \n",
              "2       928       701             3           No       791.0          GLQ   \n",
              "3       926       678             3           No       602.0          GLQ   \n",
              "\n",
              "   BsmtUnfSF  EnclosedPorch  GarageArea GarageFinish  ...  LotFrontage  \\\n",
              "0      270.0              0       730.0          Unf  ...         80.0   \n",
              "1      406.0              0       312.0          Unf  ...         81.0   \n",
              "2      137.0              0       482.0          Fin  ...         74.0   \n",
              "3      324.0              0       470.0          Fin  ...         78.0   \n",
              "\n",
              "   MasVnrArea OpenPorchSF  OverallCond  OverallQual  TotalBsmtSF  WoodDeckSF  \\\n",
              "0         0.0           0            6            5        882.0         140   \n",
              "1       108.0          36            6            6       1329.0         393   \n",
              "2         0.0          34            5            5        928.0         212   \n",
              "3        20.0          36            6            6        926.0         360   \n",
              "\n",
              "   YearBuilt  YearRemodAdd  Predicted Sale Price  \n",
              "0       1961          1961              129451.0  \n",
              "1       1958          1958              157565.0  \n",
              "2       1997          1998              166748.0  \n",
              "3       1998          1998              177049.0  \n",
              "\n",
              "[4 rows x 24 columns]"
            ]
          },
          "execution_count": 8,
          "metadata": {},
          "output_type": "execute_result"
        }
      ],
      "source": [
        "# load raw dataset\n",
        "X_inherited_house_data=pd.read_csv(\"outputs/datasets/collection/inherited_houses.csv\")\n",
        "\n",
        "# predict house prices\n",
        "y_predicted_price=ml_pipeline.predict(X_inherited_house_data)\n",
        "\n",
        "# round it \n",
        "y_predicted_price.round(decimals=0)\n",
        "\n",
        "# append the values\n",
        "X_inherited_house_data['Predicted Sale Price']=y_predicted_price.round(decimals=0)\n",
        "\n",
        "X_inherited_house_data"
      ]
    },
    {
      "cell_type": "code",
      "execution_count": 9,
      "metadata": {},
      "outputs": [],
      "source": [
        "X_inherited_house_data.to_csv(\"outputs/datasets/predict_sale_price/predicted_prices_for_inherited_houses.csv\")"
      ]
    },
    {
      "cell_type": "markdown",
      "metadata": {},
      "source": [
        "# Conclusion"
      ]
    },
    {
      "cell_type": "markdown",
      "metadata": {},
      "source": []
    },
    {
      "cell_type": "code",
      "execution_count": null,
      "metadata": {},
      "outputs": [],
      "source": []
    }
  ],
  "metadata": {
    "accelerator": "GPU",
    "colab": {
      "name": "Data Practitioner Jupyter Notebook.ipynb",
      "provenance": [],
      "toc_visible": true
    },
    "interpreter": {
      "hash": "8b8334dab9339717f727a1deaf837b322d7a41c20d15cc86be99a8e69ceec8ce"
    },
    "kernelspec": {
      "display_name": "Python 3.8.12 64-bit ('3.8.12': pyenv)",
      "name": "python3"
    },
    "language_info": {
      "codemirror_mode": {
        "name": "ipython",
        "version": 3
      },
      "file_extension": ".py",
      "mimetype": "text/x-python",
      "name": "python",
      "nbconvert_exporter": "python",
      "pygments_lexer": "ipython3",
      "version": "3.8.18"
    },
    "orig_nbformat": 2
  },
  "nbformat": 4,
  "nbformat_minor": 2
}
