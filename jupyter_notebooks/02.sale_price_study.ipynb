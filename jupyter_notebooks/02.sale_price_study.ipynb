{
  "cells": [
    {
      "cell_type": "markdown",
      "metadata": {
        "id": "0aStgWSO0E0E"
      },
      "source": [
        "# **DATA PROFILING**"
      ]
    },
    {
      "cell_type": "markdown",
      "metadata": {
        "id": "1eLEkw5O0ECa"
      },
      "source": [
        "## Objectives\n",
        "\n",
        "* Take a closer look at data. Understand data types, distribution, gaps (i.e. missing values).\n",
        "## Inputs\n",
        "\n",
        "* Raw data (house_prices_records.csv)\n",
        "\n",
        "## Outputs\n",
        "\n",
        "* One cleaned dataset of house_prices_records that is ready for Exploratory Data Analysis.\n",
        "\n",
        "## Additional Comments\n",
        "\n",
        "* In the Data Collection phase, we inspected inherited_houses.csv file manually. It was easy to do so because of only 4 raws of data. We concluded that the only difference from \"house_prices_records.csv\" is the absence of SalePrice. For the data cleaning purpose, we are only focusing primary dataset i.e. (house_price_records.csv), because inherited house dataset is (1) irrelavant for EDA and (2) complete and ready to use as it is.\n"
      ]
    },
    {
      "cell_type": "markdown",
      "metadata": {
        "id": "9uWZXH9LwoQg"
      },
      "source": [
        "---"
      ]
    },
    {
      "cell_type": "markdown",
      "metadata": {},
      "source": [
        "---"
      ]
    },
    {
      "cell_type": "markdown",
      "metadata": {
        "id": "cqP-UeN-z3i2"
      },
      "source": [
        "# Change working directory"
      ]
    },
    {
      "cell_type": "markdown",
      "metadata": {},
      "source": [
        "* We are assuming you will store the notebooks in a subfolder, therefore when running the notebook in the editor, you will need to change the working directory"
      ]
    },
    {
      "cell_type": "markdown",
      "metadata": {
        "id": "aOGIGS-uz3i2"
      },
      "source": [
        "We need to change the working directory from its current folder to its parent folder\n",
        "* We access the current directory with os.getcwd()"
      ]
    },
    {
      "cell_type": "code",
      "execution_count": 4,
      "metadata": {
        "id": "wZfF_j-Bz3i4",
        "outputId": "66943449-1436-4c3d-85c7-b85f9f78349b"
      },
      "outputs": [
        {
          "data": {
            "text/plain": [
              "'/workspace/pp5_project_heritage_housing/jupyter_notebooks'"
            ]
          },
          "execution_count": 4,
          "metadata": {},
          "output_type": "execute_result"
        }
      ],
      "source": [
        "import os\n",
        "current_dir = os.getcwd()\n",
        "current_dir"
      ]
    },
    {
      "cell_type": "markdown",
      "metadata": {
        "id": "9MWW8E7lz3i7"
      },
      "source": [
        "We want to make the parent of the current directory the new current directory\n",
        "* os.path.dirname() gets the parent directory\n",
        "* os.chir() defines the new current directory"
      ]
    },
    {
      "cell_type": "code",
      "execution_count": 5,
      "metadata": {
        "id": "TwHsQRWjz3i9",
        "outputId": "86849db3-cd2f-4cc5-ebb8-2d0caafa1a2c"
      },
      "outputs": [
        {
          "name": "stdout",
          "output_type": "stream",
          "text": [
            "You set a new current directory\n"
          ]
        }
      ],
      "source": [
        "os.chdir(os.path.dirname(current_dir))\n",
        "print(\"You set a new current directory\")"
      ]
    },
    {
      "cell_type": "markdown",
      "metadata": {
        "id": "M_xPk_Ijz3i-"
      },
      "source": [
        "Confirm the new current directory"
      ]
    },
    {
      "cell_type": "code",
      "execution_count": 6,
      "metadata": {
        "id": "vz3S-_kjz3jA",
        "outputId": "00b79ae4-75d0-4a96-d193-ac9ef9847ea2"
      },
      "outputs": [
        {
          "data": {
            "text/plain": [
              "'/workspace/pp5_project_heritage_housing'"
            ]
          },
          "execution_count": 6,
          "metadata": {},
          "output_type": "execute_result"
        }
      ],
      "source": [
        "current_dir = os.getcwd()\n",
        "current_dir"
      ]
    },
    {
      "cell_type": "markdown",
      "metadata": {},
      "source": [
        "---"
      ]
    },
    {
      "cell_type": "markdown",
      "metadata": {
        "id": "-mavJ8DibrcQ"
      },
      "source": [
        "# Data Profiling"
      ]
    },
    {
      "cell_type": "markdown",
      "metadata": {},
      "source": [
        "Let's import all necessary module in the beginning."
      ]
    },
    {
      "cell_type": "code",
      "execution_count": 7,
      "metadata": {},
      "outputs": [],
      "source": [
        "# plotting lib\n",
        "import numpy as np\n",
        "import pandas as pd\n",
        "import matplotlib.pyplot as plt\n",
        "import seaborn as sns\n",
        "\n",
        "# data profiling lib\n",
        "from ydata_profiling import ProfileReport\n",
        "import ppscore as pps"
      ]
    },
    {
      "cell_type": "markdown",
      "metadata": {},
      "source": [
        "## Schema validation"
      ]
    },
    {
      "cell_type": "markdown",
      "metadata": {},
      "source": [
        "Check that data confirms to schema outlined in metadata"
      ]
    },
    {
      "cell_type": "code",
      "execution_count": 8,
      "metadata": {},
      "outputs": [
        {
          "data": {
            "text/html": [
              "<div>\n",
              "<style scoped>\n",
              "    .dataframe tbody tr th:only-of-type {\n",
              "        vertical-align: middle;\n",
              "    }\n",
              "\n",
              "    .dataframe tbody tr th {\n",
              "        vertical-align: top;\n",
              "    }\n",
              "\n",
              "    .dataframe thead th {\n",
              "        text-align: right;\n",
              "    }\n",
              "</style>\n",
              "<table border=\"1\" class=\"dataframe\">\n",
              "  <thead>\n",
              "    <tr style=\"text-align: right;\">\n",
              "      <th></th>\n",
              "      <th>1stFlrSF</th>\n",
              "      <th>2ndFlrSF</th>\n",
              "      <th>BedroomAbvGr</th>\n",
              "      <th>BsmtExposure</th>\n",
              "      <th>BsmtFinSF1</th>\n",
              "      <th>BsmtFinType1</th>\n",
              "      <th>BsmtUnfSF</th>\n",
              "      <th>EnclosedPorch</th>\n",
              "      <th>GarageArea</th>\n",
              "      <th>GarageFinish</th>\n",
              "      <th>...</th>\n",
              "      <th>LotFrontage</th>\n",
              "      <th>MasVnrArea</th>\n",
              "      <th>OpenPorchSF</th>\n",
              "      <th>OverallCond</th>\n",
              "      <th>OverallQual</th>\n",
              "      <th>TotalBsmtSF</th>\n",
              "      <th>WoodDeckSF</th>\n",
              "      <th>YearBuilt</th>\n",
              "      <th>YearRemodAdd</th>\n",
              "      <th>SalePrice</th>\n",
              "    </tr>\n",
              "  </thead>\n",
              "  <tbody>\n",
              "    <tr>\n",
              "      <th>0</th>\n",
              "      <td>856</td>\n",
              "      <td>854.0</td>\n",
              "      <td>3.0</td>\n",
              "      <td>No</td>\n",
              "      <td>706</td>\n",
              "      <td>GLQ</td>\n",
              "      <td>150</td>\n",
              "      <td>0.0</td>\n",
              "      <td>548</td>\n",
              "      <td>RFn</td>\n",
              "      <td>...</td>\n",
              "      <td>65.0</td>\n",
              "      <td>196.0</td>\n",
              "      <td>61</td>\n",
              "      <td>5</td>\n",
              "      <td>7</td>\n",
              "      <td>856</td>\n",
              "      <td>0.0</td>\n",
              "      <td>2003</td>\n",
              "      <td>2003</td>\n",
              "      <td>208500</td>\n",
              "    </tr>\n",
              "    <tr>\n",
              "      <th>1</th>\n",
              "      <td>1262</td>\n",
              "      <td>0.0</td>\n",
              "      <td>3.0</td>\n",
              "      <td>Gd</td>\n",
              "      <td>978</td>\n",
              "      <td>ALQ</td>\n",
              "      <td>284</td>\n",
              "      <td>NaN</td>\n",
              "      <td>460</td>\n",
              "      <td>RFn</td>\n",
              "      <td>...</td>\n",
              "      <td>80.0</td>\n",
              "      <td>0.0</td>\n",
              "      <td>0</td>\n",
              "      <td>8</td>\n",
              "      <td>6</td>\n",
              "      <td>1262</td>\n",
              "      <td>NaN</td>\n",
              "      <td>1976</td>\n",
              "      <td>1976</td>\n",
              "      <td>181500</td>\n",
              "    </tr>\n",
              "    <tr>\n",
              "      <th>2</th>\n",
              "      <td>920</td>\n",
              "      <td>866.0</td>\n",
              "      <td>3.0</td>\n",
              "      <td>Mn</td>\n",
              "      <td>486</td>\n",
              "      <td>GLQ</td>\n",
              "      <td>434</td>\n",
              "      <td>0.0</td>\n",
              "      <td>608</td>\n",
              "      <td>RFn</td>\n",
              "      <td>...</td>\n",
              "      <td>68.0</td>\n",
              "      <td>162.0</td>\n",
              "      <td>42</td>\n",
              "      <td>5</td>\n",
              "      <td>7</td>\n",
              "      <td>920</td>\n",
              "      <td>NaN</td>\n",
              "      <td>2001</td>\n",
              "      <td>2002</td>\n",
              "      <td>223500</td>\n",
              "    </tr>\n",
              "    <tr>\n",
              "      <th>3</th>\n",
              "      <td>961</td>\n",
              "      <td>NaN</td>\n",
              "      <td>NaN</td>\n",
              "      <td>No</td>\n",
              "      <td>216</td>\n",
              "      <td>ALQ</td>\n",
              "      <td>540</td>\n",
              "      <td>NaN</td>\n",
              "      <td>642</td>\n",
              "      <td>Unf</td>\n",
              "      <td>...</td>\n",
              "      <td>60.0</td>\n",
              "      <td>0.0</td>\n",
              "      <td>35</td>\n",
              "      <td>5</td>\n",
              "      <td>7</td>\n",
              "      <td>756</td>\n",
              "      <td>NaN</td>\n",
              "      <td>1915</td>\n",
              "      <td>1970</td>\n",
              "      <td>140000</td>\n",
              "    </tr>\n",
              "    <tr>\n",
              "      <th>4</th>\n",
              "      <td>1145</td>\n",
              "      <td>NaN</td>\n",
              "      <td>4.0</td>\n",
              "      <td>Av</td>\n",
              "      <td>655</td>\n",
              "      <td>GLQ</td>\n",
              "      <td>490</td>\n",
              "      <td>0.0</td>\n",
              "      <td>836</td>\n",
              "      <td>RFn</td>\n",
              "      <td>...</td>\n",
              "      <td>84.0</td>\n",
              "      <td>350.0</td>\n",
              "      <td>84</td>\n",
              "      <td>5</td>\n",
              "      <td>8</td>\n",
              "      <td>1145</td>\n",
              "      <td>NaN</td>\n",
              "      <td>2000</td>\n",
              "      <td>2000</td>\n",
              "      <td>250000</td>\n",
              "    </tr>\n",
              "    <tr>\n",
              "      <th>...</th>\n",
              "      <td>...</td>\n",
              "      <td>...</td>\n",
              "      <td>...</td>\n",
              "      <td>...</td>\n",
              "      <td>...</td>\n",
              "      <td>...</td>\n",
              "      <td>...</td>\n",
              "      <td>...</td>\n",
              "      <td>...</td>\n",
              "      <td>...</td>\n",
              "      <td>...</td>\n",
              "      <td>...</td>\n",
              "      <td>...</td>\n",
              "      <td>...</td>\n",
              "      <td>...</td>\n",
              "      <td>...</td>\n",
              "      <td>...</td>\n",
              "      <td>...</td>\n",
              "      <td>...</td>\n",
              "      <td>...</td>\n",
              "      <td>...</td>\n",
              "    </tr>\n",
              "    <tr>\n",
              "      <th>1455</th>\n",
              "      <td>953</td>\n",
              "      <td>694.0</td>\n",
              "      <td>3.0</td>\n",
              "      <td>No</td>\n",
              "      <td>0</td>\n",
              "      <td>Unf</td>\n",
              "      <td>953</td>\n",
              "      <td>NaN</td>\n",
              "      <td>460</td>\n",
              "      <td>RFn</td>\n",
              "      <td>...</td>\n",
              "      <td>62.0</td>\n",
              "      <td>0.0</td>\n",
              "      <td>40</td>\n",
              "      <td>5</td>\n",
              "      <td>6</td>\n",
              "      <td>953</td>\n",
              "      <td>0.0</td>\n",
              "      <td>1999</td>\n",
              "      <td>2000</td>\n",
              "      <td>175000</td>\n",
              "    </tr>\n",
              "    <tr>\n",
              "      <th>1456</th>\n",
              "      <td>2073</td>\n",
              "      <td>0.0</td>\n",
              "      <td>NaN</td>\n",
              "      <td>No</td>\n",
              "      <td>790</td>\n",
              "      <td>ALQ</td>\n",
              "      <td>589</td>\n",
              "      <td>NaN</td>\n",
              "      <td>500</td>\n",
              "      <td>Unf</td>\n",
              "      <td>...</td>\n",
              "      <td>85.0</td>\n",
              "      <td>119.0</td>\n",
              "      <td>0</td>\n",
              "      <td>6</td>\n",
              "      <td>6</td>\n",
              "      <td>1542</td>\n",
              "      <td>NaN</td>\n",
              "      <td>1978</td>\n",
              "      <td>1988</td>\n",
              "      <td>210000</td>\n",
              "    </tr>\n",
              "    <tr>\n",
              "      <th>1457</th>\n",
              "      <td>1188</td>\n",
              "      <td>1152.0</td>\n",
              "      <td>4.0</td>\n",
              "      <td>No</td>\n",
              "      <td>275</td>\n",
              "      <td>GLQ</td>\n",
              "      <td>877</td>\n",
              "      <td>NaN</td>\n",
              "      <td>252</td>\n",
              "      <td>RFn</td>\n",
              "      <td>...</td>\n",
              "      <td>66.0</td>\n",
              "      <td>0.0</td>\n",
              "      <td>60</td>\n",
              "      <td>9</td>\n",
              "      <td>7</td>\n",
              "      <td>1152</td>\n",
              "      <td>NaN</td>\n",
              "      <td>1941</td>\n",
              "      <td>2006</td>\n",
              "      <td>266500</td>\n",
              "    </tr>\n",
              "    <tr>\n",
              "      <th>1458</th>\n",
              "      <td>1078</td>\n",
              "      <td>0.0</td>\n",
              "      <td>2.0</td>\n",
              "      <td>Mn</td>\n",
              "      <td>49</td>\n",
              "      <td>NaN</td>\n",
              "      <td>0</td>\n",
              "      <td>112.0</td>\n",
              "      <td>240</td>\n",
              "      <td>Unf</td>\n",
              "      <td>...</td>\n",
              "      <td>68.0</td>\n",
              "      <td>0.0</td>\n",
              "      <td>0</td>\n",
              "      <td>6</td>\n",
              "      <td>5</td>\n",
              "      <td>1078</td>\n",
              "      <td>NaN</td>\n",
              "      <td>1950</td>\n",
              "      <td>1996</td>\n",
              "      <td>142125</td>\n",
              "    </tr>\n",
              "    <tr>\n",
              "      <th>1459</th>\n",
              "      <td>1256</td>\n",
              "      <td>0.0</td>\n",
              "      <td>3.0</td>\n",
              "      <td>No</td>\n",
              "      <td>830</td>\n",
              "      <td>BLQ</td>\n",
              "      <td>136</td>\n",
              "      <td>0.0</td>\n",
              "      <td>276</td>\n",
              "      <td>Fin</td>\n",
              "      <td>...</td>\n",
              "      <td>75.0</td>\n",
              "      <td>0.0</td>\n",
              "      <td>68</td>\n",
              "      <td>6</td>\n",
              "      <td>5</td>\n",
              "      <td>1256</td>\n",
              "      <td>736.0</td>\n",
              "      <td>1965</td>\n",
              "      <td>1965</td>\n",
              "      <td>147500</td>\n",
              "    </tr>\n",
              "  </tbody>\n",
              "</table>\n",
              "<p>1460 rows × 24 columns</p>\n",
              "</div>"
            ],
            "text/plain": [
              "      1stFlrSF  2ndFlrSF  BedroomAbvGr BsmtExposure  BsmtFinSF1 BsmtFinType1  \\\n",
              "0          856     854.0           3.0           No         706          GLQ   \n",
              "1         1262       0.0           3.0           Gd         978          ALQ   \n",
              "2          920     866.0           3.0           Mn         486          GLQ   \n",
              "3          961       NaN           NaN           No         216          ALQ   \n",
              "4         1145       NaN           4.0           Av         655          GLQ   \n",
              "...        ...       ...           ...          ...         ...          ...   \n",
              "1455       953     694.0           3.0           No           0          Unf   \n",
              "1456      2073       0.0           NaN           No         790          ALQ   \n",
              "1457      1188    1152.0           4.0           No         275          GLQ   \n",
              "1458      1078       0.0           2.0           Mn          49          NaN   \n",
              "1459      1256       0.0           3.0           No         830          BLQ   \n",
              "\n",
              "      BsmtUnfSF  EnclosedPorch  GarageArea GarageFinish  ...  LotFrontage  \\\n",
              "0           150            0.0         548          RFn  ...         65.0   \n",
              "1           284            NaN         460          RFn  ...         80.0   \n",
              "2           434            0.0         608          RFn  ...         68.0   \n",
              "3           540            NaN         642          Unf  ...         60.0   \n",
              "4           490            0.0         836          RFn  ...         84.0   \n",
              "...         ...            ...         ...          ...  ...          ...   \n",
              "1455        953            NaN         460          RFn  ...         62.0   \n",
              "1456        589            NaN         500          Unf  ...         85.0   \n",
              "1457        877            NaN         252          RFn  ...         66.0   \n",
              "1458          0          112.0         240          Unf  ...         68.0   \n",
              "1459        136            0.0         276          Fin  ...         75.0   \n",
              "\n",
              "      MasVnrArea OpenPorchSF  OverallCond  OverallQual  TotalBsmtSF  \\\n",
              "0          196.0          61            5            7          856   \n",
              "1            0.0           0            8            6         1262   \n",
              "2          162.0          42            5            7          920   \n",
              "3            0.0          35            5            7          756   \n",
              "4          350.0          84            5            8         1145   \n",
              "...          ...         ...          ...          ...          ...   \n",
              "1455         0.0          40            5            6          953   \n",
              "1456       119.0           0            6            6         1542   \n",
              "1457         0.0          60            9            7         1152   \n",
              "1458         0.0           0            6            5         1078   \n",
              "1459         0.0          68            6            5         1256   \n",
              "\n",
              "      WoodDeckSF  YearBuilt  YearRemodAdd  SalePrice  \n",
              "0            0.0       2003          2003     208500  \n",
              "1            NaN       1976          1976     181500  \n",
              "2            NaN       2001          2002     223500  \n",
              "3            NaN       1915          1970     140000  \n",
              "4            NaN       2000          2000     250000  \n",
              "...          ...        ...           ...        ...  \n",
              "1455         0.0       1999          2000     175000  \n",
              "1456         NaN       1978          1988     210000  \n",
              "1457         NaN       1941          2006     266500  \n",
              "1458         NaN       1950          1996     142125  \n",
              "1459       736.0       1965          1965     147500  \n",
              "\n",
              "[1460 rows x 24 columns]"
            ]
          },
          "execution_count": 8,
          "metadata": {},
          "output_type": "execute_result"
        }
      ],
      "source": [
        "# Make sure to work on a copy of data\n",
        "df_source_data=pd.read_csv(\"inputs/datasets/raw/house_prices_records.csv\")\n",
        "df=df_source_data.copy()\n",
        "df"
      ]
    },
    {
      "cell_type": "markdown",
      "metadata": {},
      "source": [
        "There are 24 columns. Column name description is provided in metadata for additional context. This can help determine data type."
      ]
    },
    {
      "cell_type": "markdown",
      "metadata": {},
      "source": [
        "## Data type conversion"
      ]
    },
    {
      "cell_type": "markdown",
      "metadata": {},
      "source": [
        "This step is important so correct categorical variables are identified for profiling down the line."
      ]
    },
    {
      "cell_type": "code",
      "execution_count": 6,
      "metadata": {},
      "outputs": [
        {
          "name": "stdout",
          "output_type": "stream",
          "text": [
            "1stFlrSF            int64\n",
            "2ndFlrSF          float64\n",
            "BedroomAbvGr      float64\n",
            "BsmtExposure     category\n",
            "BsmtFinSF1          int64\n",
            "BsmtFinType1     category\n",
            "BsmtUnfSF           int64\n",
            "EnclosedPorch     float64\n",
            "GarageArea          int64\n",
            "GarageFinish     category\n",
            "GarageYrBlt       float64\n",
            "GrLivArea           int64\n",
            "KitchenQual      category\n",
            "LotArea             int64\n",
            "LotFrontage       float64\n",
            "MasVnrArea        float64\n",
            "OpenPorchSF         int64\n",
            "OverallCond      category\n",
            "OverallQual      category\n",
            "TotalBsmtSF         int64\n",
            "WoodDeckSF        float64\n",
            "YearBuilt           int64\n",
            "YearRemodAdd        int64\n",
            "SalePrice           int64\n",
            "dtype: object\n"
          ]
        }
      ],
      "source": [
        "cat_data_col=('BsmtExposure','BsmtFinType1','GarageFinish','KitchenQual','OverallCond','OverallQual')\n",
        "\n",
        "for cat in cat_data_col:\n",
        "    df[cat]=df[cat].astype('category')\n",
        "\n",
        "print(df.dtypes)"
      ]
    },
    {
      "cell_type": "code",
      "execution_count": 11,
      "metadata": {},
      "outputs": [],
      "source": [
        "# save file\n",
        "\n",
        "df.to_csv('outputs/datasets/collection/house_price_records.csv',index=False)"
      ]
    },
    {
      "cell_type": "markdown",
      "metadata": {},
      "source": [
        "## Run detailing profiling"
      ]
    },
    {
      "cell_type": "code",
      "execution_count": null,
      "metadata": {},
      "outputs": [],
      "source": [
        "# Note : A copy of report is saved and provided down the line, to avoid re running cell again and again\n",
        "\n",
        "profile = ProfileReport(df=df)\n",
        "profile.to_notebook_iframe()"
      ]
    },
    {
      "cell_type": "code",
      "execution_count": null,
      "metadata": {},
      "outputs": [],
      "source": [
        "profile.to_file(output_file='outputs/profiling_report_output.html')"
      ]
    },
    {
      "cell_type": "markdown",
      "metadata": {},
      "source": [
        "## Primary Findings"
      ]
    },
    {
      "cell_type": "markdown",
      "metadata": {},
      "source": [
        "**Variables**\n",
        "\n",
        "- Therere are 24 variables in total. 16 Variables are numerical and 8 are categorical.\n",
        "\n",
        "- All eight categorical variables are ordinal in nature. four of them are numerically encoded and four are not.\n",
        "    - For analysis purpose YearBuilt and YearRemodAdd have been treated as categorical ordinal value. This will provide context for \"an apartment build before year X.. or after year Y\"\n",
        "\n",
        "- All numerical variables conforms to min-max range provided in metadata.\n",
        "    - However, there are no apartments where OverallCond = 10 (excellent)\n",
        "    \n",
        "- All categorical variable conforms to categories provided in metadata. \n",
        "    "
      ]
    },
    {
      "cell_type": "markdown",
      "metadata": {},
      "source": [
        "#### Missing values and possible approaches\n",
        "\n",
        "- ```SalePrice```which will be our target variable down the line, has zero missing values. Good news for analysis and prediction.\n",
        "\n",
        "- ```EnclosedPorch``` and ```WoodDeckSF``` columns have about 90% data missing. Consider to drop them for analysis.\n",
        "\n",
        "- ```LotFrontage```has 17.7 % missing values. However, ydata detailed profile report shows that it is  correlated with ```LotArea```, It also makes sense in physical world. Bigger the lot area, the higher the chances that LotFrontage (i.e. linear feet of street connected to property) is bigger. So, we can leverage this relation for missing data imputaion.\n",
        "\n",
        "- ```GarageFinish```has 11.1% missing values. However, ydata detailed profile report shows that it is  correlated with  ```GarageArea```. In phsyical world, they are independent. For example, a bigger garden does not nessarily mean high qality finish. So, we may have to look at other areas to find imputation strategies, for ex. distribution.\n",
        "\n",
        "- ```BsmtFinType1```has 7.8% missing values. However, ydata detailed profile report shows that it is  correlated with  ```BsmtExposure```. In physical world, \"walkout or garden level walls exposure level\" and \"quality of basement\" are independent. So, perhaps this correlation is just coinsidence. So, we may have to look at other strategies for data impuration, for ex. distribution.\n",
        "\n",
        "- ```BedroomAbvGr```has 6.8% missing values. However, ydata detailed profile report shows that it is  correlated with ```2ndFlrSF```and ```GrLivArea```. In physical world it does not make sense. Bedroom above ground has no relation with 2nd floor surface area and living area. So, we may have to look at other strategies for data impuration, for ex. distribution.\n",
        "\n",
        "- ```2ndFlrSF``` has 5.89% missing values. However, ydata detailed profile report shows that it is correlated with ```BedroomAbvGr```. As mentioned in previous bullet point, this does not make sense in physical world. So, we may have to look at other strategies for data impuration, for ex. distribtion.\n",
        "\n",
        "- ```GarageYrBlt```has 5.5% missing values. However, ydata detailed profile report shows that it is  correlated with  ```GarageArea``` , ```SalePrice```and ```YearRemodAdd```. In physical world, it may be possible that with time (GarageYrBlt), larger and larger (or smaller and smaller) garages were built. It is possible that with newer the garage, better the sales price. We can explore these relationships further for missing data imputation. \n",
        "\n",
        "Alternate argument : Sometimes including all correlated variables as features can lead to biased predictions. So, an alternate can be to include only non-correlated variables i.e. choosing only on of two highly correlated variables as feature. In that case we will not not address missing data in \"all the columns\" but only those that are relevant."
      ]
    },
    {
      "cell_type": "markdown",
      "metadata": {},
      "source": [
        "#### Duplicates"
      ]
    },
    {
      "cell_type": "markdown",
      "metadata": {},
      "source": [
        "There are no duplicate rows"
      ]
    },
    {
      "cell_type": "markdown",
      "metadata": {},
      "source": [
        "#### Zeros\n",
        "\n",
        "- ```['2ndFlrSF','MasVnrArea','OpenPorchSF']```contains between 45-50% zero as a value. This is possible in physical world. Let's have a look at it."
      ]
    },
    {
      "cell_type": "code",
      "execution_count": null,
      "metadata": {},
      "outputs": [],
      "source": [
        "# Import seaborn\n",
        "import seaborn as sns\n",
        "\n",
        "# Apply the default theme\n",
        "sns.set(style=\"whitegrid\")\n",
        "\n",
        "sns.pairplot(df[['2ndFlrSF','MasVnrArea','OpenPorchSF']])"
      ]
    },
    {
      "cell_type": "markdown",
      "metadata": {},
      "source": [
        "As you can see from the historgram, the distribution for each variable is extremely skewed. \n",
        "\n",
        "The scatterplot confirms that the variables are also not unrelated.So, we conclude that this is just the reality. \n",
        "\n",
        "Meaning, most of the houses does not have any open porch, 2nd floor or Masonry Veneer."
      ]
    },
    {
      "cell_type": "markdown",
      "metadata": {},
      "source": [
        "#### Sale Price"
      ]
    },
    {
      "cell_type": "code",
      "execution_count": 7,
      "metadata": {},
      "outputs": [
        {
          "name": "stderr",
          "output_type": "stream",
          "text": [
            "/workspace/.pip-modules/lib/python3.8/site-packages/seaborn/_decorators.py:36: FutureWarning: Pass the following variable as a keyword arg: x. From version 0.12, the only valid positional argument will be `data`, and passing other arguments without an explicit keyword will result in an error or misinterpretation.\n",
            "  warnings.warn(\n"
          ]
        },
        {
          "data": {
            "image/png": "[encoded data removed]",
            "text/plain": [
              "<Figure size 640x480 with 2 Axes>"
            ]
          },
          "metadata": {},
          "output_type": "display_data"
        }
      ],
      "source": [
        "## Source code taken from : https://python-graph-gallery.com/24-histogram-with-a-boxplot-on-top-seaborn/\n",
        "\n",
        "sns.set_theme()\n",
        " \n",
        "# creating a figure composed of two matplotlib.Axes objects (ax_box and ax_hist)\n",
        "f, (ax_box, ax_hist) = plt.subplots(2, sharex=True, gridspec_kw={\"height_ratios\": (.15, .85)})\n",
        " \n",
        "# assigning a graph to each ax\n",
        "sns.boxplot(df[\"SalePrice\"], orient=\"h\", ax=ax_box)\n",
        "sns.histplot(data=df, x=\"SalePrice\", ax=ax_hist)\n",
        " \n",
        "# Remove x axis name for the boxplot\n",
        "ax_box.set(xlabel='')\n",
        "plt.show()"
      ]
    },
    {
      "cell_type": "markdown",
      "metadata": {},
      "source": [
        "The data seems to have positive Kurtosis and Positive Skewness ( right tail). Let's quantify."
      ]
    },
    {
      "cell_type": "code",
      "execution_count": null,
      "metadata": {},
      "outputs": [],
      "source": [
        "print(f\"Kurtosis : {round(df['SalePrice'].kurt(),2)}\")\n",
        "print(f\"Skewness : {round(df['SalePrice'].skew(),2)}\")"
      ]
    },
    {
      "cell_type": "markdown",
      "metadata": {},
      "source": [
        "A Skewness of 1.8 is considered very high.\n",
        "\n",
        "A Kurtosis of 6.5 is considered very high.\n",
        "\n",
        "**Conclusion**\n",
        "\n",
        "Down the line will to apply transformation to deal with high level of Skewness and Kurtosis to have more balanced dataset for prediction purpose."
      ]
    },
    {
      "cell_type": "code",
      "execution_count": null,
      "metadata": {},
      "outputs": [],
      "source": [
        "df['SalePrice'].describe()"
      ]
    },
    {
      "cell_type": "markdown",
      "metadata": {},
      "source": [
        "Around 50% of the total houses sold have prices betwen 129975 and 214000."
      ]
    },
    {
      "cell_type": "markdown",
      "metadata": {},
      "source": [
        "## Correlation"
      ]
    },
    {
      "cell_type": "markdown",
      "metadata": {},
      "source": [
        "The profiling report indicates good correlation between ```SalePrice```and ```['1stFlrSF','GarageArea','GarageYrBlt','GrLivArea','TotalBsmtSF']```. So, let's explore that"
      ]
    },
    {
      "cell_type": "code",
      "execution_count": 8,
      "metadata": {},
      "outputs": [
        {
          "data": {
            "text/html": [
              "<div>\n",
              "<style scoped>\n",
              "    .dataframe tbody tr th:only-of-type {\n",
              "        vertical-align: middle;\n",
              "    }\n",
              "\n",
              "    .dataframe tbody tr th {\n",
              "        vertical-align: top;\n",
              "    }\n",
              "\n",
              "    .dataframe thead th {\n",
              "        text-align: right;\n",
              "    }\n",
              "</style>\n",
              "<table border=\"1\" class=\"dataframe\">\n",
              "  <thead>\n",
              "    <tr style=\"text-align: right;\">\n",
              "      <th></th>\n",
              "      <th>SalePrice</th>\n",
              "    </tr>\n",
              "  </thead>\n",
              "  <tbody>\n",
              "    <tr>\n",
              "      <th>SalePrice</th>\n",
              "      <td>1.000000</td>\n",
              "    </tr>\n",
              "    <tr>\n",
              "      <th>GrLivArea</th>\n",
              "      <td>0.708624</td>\n",
              "    </tr>\n",
              "    <tr>\n",
              "      <th>GarageArea</th>\n",
              "      <td>0.623431</td>\n",
              "    </tr>\n",
              "    <tr>\n",
              "      <th>TotalBsmtSF</th>\n",
              "      <td>0.613581</td>\n",
              "    </tr>\n",
              "    <tr>\n",
              "      <th>1stFlrSF</th>\n",
              "      <td>0.605852</td>\n",
              "    </tr>\n",
              "    <tr>\n",
              "      <th>YearBuilt</th>\n",
              "      <td>0.522897</td>\n",
              "    </tr>\n",
              "    <tr>\n",
              "      <th>YearRemodAdd</th>\n",
              "      <td>0.507101</td>\n",
              "    </tr>\n",
              "    <tr>\n",
              "      <th>GarageYrBlt</th>\n",
              "      <td>0.486362</td>\n",
              "    </tr>\n",
              "    <tr>\n",
              "      <th>MasVnrArea</th>\n",
              "      <td>0.477493</td>\n",
              "    </tr>\n",
              "    <tr>\n",
              "      <th>BsmtFinSF1</th>\n",
              "      <td>0.386420</td>\n",
              "    </tr>\n",
              "    <tr>\n",
              "      <th>LotFrontage</th>\n",
              "      <td>0.351799</td>\n",
              "    </tr>\n",
              "    <tr>\n",
              "      <th>2ndFlrSF</th>\n",
              "      <td>0.322335</td>\n",
              "    </tr>\n",
              "    <tr>\n",
              "      <th>OpenPorchSF</th>\n",
              "      <td>0.315856</td>\n",
              "    </tr>\n",
              "    <tr>\n",
              "      <th>LotArea</th>\n",
              "      <td>0.263843</td>\n",
              "    </tr>\n",
              "    <tr>\n",
              "      <th>WoodDeckSF</th>\n",
              "      <td>0.252027</td>\n",
              "    </tr>\n",
              "    <tr>\n",
              "      <th>BsmtUnfSF</th>\n",
              "      <td>0.214479</td>\n",
              "    </tr>\n",
              "    <tr>\n",
              "      <th>EnclosedPorch</th>\n",
              "      <td>-0.176458</td>\n",
              "    </tr>\n",
              "    <tr>\n",
              "      <th>BedroomAbvGr</th>\n",
              "      <td>0.161901</td>\n",
              "    </tr>\n",
              "  </tbody>\n",
              "</table>\n",
              "</div>"
            ],
            "text/plain": [
              "               SalePrice\n",
              "SalePrice       1.000000\n",
              "GrLivArea       0.708624\n",
              "GarageArea      0.623431\n",
              "TotalBsmtSF     0.613581\n",
              "1stFlrSF        0.605852\n",
              "YearBuilt       0.522897\n",
              "YearRemodAdd    0.507101\n",
              "GarageYrBlt     0.486362\n",
              "MasVnrArea      0.477493\n",
              "BsmtFinSF1      0.386420\n",
              "LotFrontage     0.351799\n",
              "2ndFlrSF        0.322335\n",
              "OpenPorchSF     0.315856\n",
              "LotArea         0.263843\n",
              "WoodDeckSF      0.252027\n",
              "BsmtUnfSF       0.214479\n",
              "EnclosedPorch  -0.176458\n",
              "BedroomAbvGr    0.161901"
            ]
          },
          "execution_count": 8,
          "metadata": {},
          "output_type": "execute_result"
        }
      ],
      "source": [
        "df_corr = df.corr(method='pearson')\n",
        "df_corr.filter(['SalePrice']).sort_values(by='SalePrice', key=abs, ascending=False)"
      ]
    },
    {
      "cell_type": "code",
      "execution_count": 9,
      "metadata": {},
      "outputs": [],
      "source": [
        "# Set up custome function to show correlation heatmap\n",
        "# Code adapted from EDA unit 2 Notebook 2\n",
        "\n",
        "def heatmap_corr(data, threshold, figsize=(8,8), annot_size=8):\n",
        "  # we create the mask for the upper diagonal and\n",
        "  # show only values greater than the threshold\n",
        "  mask = np.zeros_like(data, dtype=np.bool)\n",
        "  mask[np.triu_indices_from(mask)] = True\n",
        "  mask[abs(data) < threshold] = True\n",
        "\n",
        "  # we plot the heatmap as usual\n",
        "  fig, axes = plt.subplots(figsize=(8,8))\n",
        "  sns.heatmap(data=data, annot=True, xticklabels=True, yticklabels=True,\n",
        "              mask=mask, cmap='viridis', annot_kws={\"size\": annot_size}, ax=axes,\n",
        "              linewidth=0.5\n",
        "                    )\n",
        "  plt.ylim(len(data.columns),0)\n",
        "  plt.show()"
      ]
    },
    {
      "cell_type": "code",
      "execution_count": 10,
      "metadata": {},
      "outputs": [
        {
          "data": {
            "image/png": "[encoded data removed]",
            "text/plain": [
              "<Figure size 800x800 with 2 Axes>"
            ]
          },
          "metadata": {},
          "output_type": "display_data"
        }
      ],
      "source": [
        "#Plot heat map\n",
        "heatmap_corr(data= df_corr, threshold=0.6)"
      ]
    },
    {
      "cell_type": "markdown",
      "metadata": {},
      "source": [
        "It looks like sales prices is linearly correlated with\n",
        " \n",
        "    - Above Ground Living Area (GrLivArea)\n",
        "    - Total square feet of Basement Area (TotalBsmtSF)\n",
        "    - 1st floor square feet (1stFlrSF)\n",
        "    - Garage Area (GarageArea)\n",
        "\n",
        "Note that Pearson correlation does not account for non-linear relationship. So, let's explore that with ```Spearman```. We will repeat the steps mentioned above, but now with spearman"
      ]
    },
    {
      "cell_type": "code",
      "execution_count": null,
      "metadata": {},
      "outputs": [],
      "source": [
        "df_corr = df.corr(method='spearman')\n",
        "df_corr.filter(['SalePrice']).sort_values(by='SalePrice', key=abs, ascending=False)\n",
        "heatmap_corr(data= df_corr, threshold=0.6)"
      ]
    },
    {
      "cell_type": "markdown",
      "metadata": {},
      "source": [
        "It does not reveal any additional relationship for sales price. However, it does reveal strong correlation between LotFrontage and LotArea that was previous not discovered in pearson correlation study. \n",
        "\n",
        "Let's plot all of these."
      ]
    },
    {
      "cell_type": "code",
      "execution_count": null,
      "metadata": {},
      "outputs": [],
      "source": [
        "df_plotting=df[['SalePrice','1stFlrSF','2ndFlrSF','GarageArea','GrLivArea','LotArea','TotalBsmtSF']]\n",
        "df_plotting"
      ]
    },
    {
      "cell_type": "code",
      "execution_count": null,
      "metadata": {},
      "outputs": [],
      "source": [
        "sns.pairplot(data=df_plotting)"
      ]
    },
    {
      "cell_type": "markdown",
      "metadata": {},
      "source": [
        "The pairplot above reveals that \n",
        "- Sale prices typically increases with TotalBasmtSF, GrLivArea and 1stFlrSF. Meaning, larger the house, higher the sale price. This is representative of reality.\n",
        "\n",
        "Let's have a closer look and see which of these variables have good predictive power for Sales price.\n",
        "\n",
        "There are correlations between some other variables, but it is not the foucs of study for now."
      ]
    },
    {
      "cell_type": "markdown",
      "metadata": {},
      "source": [
        "#### Predictive power score"
      ]
    },
    {
      "cell_type": "code",
      "execution_count": null,
      "metadata": {},
      "outputs": [],
      "source": [
        "pps_matrix_raw=pps.matrix(df)"
      ]
    },
    {
      "cell_type": "code",
      "execution_count": null,
      "metadata": {},
      "outputs": [],
      "source": [
        "pps_matrix = pps_matrix_raw.filter(['x', 'y', 'ppscore']).pivot(columns='x', index='y', values='ppscore')"
      ]
    },
    {
      "cell_type": "code",
      "execution_count": null,
      "metadata": {},
      "outputs": [],
      "source": [
        "def heatmap_pps(df,threshold, figsize=(30,30), font_annot = 10):\n",
        "    if len(df.columns) > 1:\n",
        "\n",
        "      mask = np.zeros_like(df, dtype=np.bool)\n",
        "      mask[abs(df) < threshold] = True\n",
        "\n",
        "      fig, ax = plt.subplots(figsize=figsize)\n",
        "      ax = sns.heatmap(df, annot=True, annot_kws={\"size\": font_annot},\n",
        "                       mask=mask,cmap='rocket_r', linewidth=0.05,\n",
        "                       linecolor='lightgrey')\n",
        "      \n",
        "      plt.ylim(len(df.columns),0)\n",
        "      plt.show()"
      ]
    },
    {
      "cell_type": "code",
      "execution_count": null,
      "metadata": {},
      "outputs": [],
      "source": [
        "heatmap_pps(df=pps_matrix, threshold=0)"
      ]
    },
    {
      "cell_type": "code",
      "execution_count": null,
      "metadata": {},
      "outputs": [],
      "source": [
        "# Need to filter PPS score to focous on a few\n",
        "# Since it is a relative term, we need to focus on IQR whih is 0 to 0.058\n",
        "\n",
        "pps_matrix_raw.query(\"ppscore < 1\").filter(['ppscore']).describe().T"
      ]
    },
    {
      "cell_type": "code",
      "execution_count": null,
      "metadata": {},
      "outputs": [],
      "source": [
        "# IQR range is 0-0.58 , so a threshold is set just above to see which variables have predictive power\n",
        "\n",
        "heatmap_pps(df=pps_matrix, threshold=0.15)"
      ]
    },
    {
      "cell_type": "markdown",
      "metadata": {},
      "source": [
        "It looks like the ```['GarageArea','GarageFinish','KitchenQual','OverallQual','YearBuilt']``` can hold predictive power over ```SalePrice```. \n",
        "\n",
        "```OverallQual``` have better predicting power and others have somewhat weak predictive power. Let's have a look at them one by one, to see if we can spot any patterns."
      ]
    },
    {
      "cell_type": "markdown",
      "metadata": {},
      "source": [
        "**Garage Area**"
      ]
    },
    {
      "cell_type": "code",
      "execution_count": null,
      "metadata": {},
      "outputs": [],
      "source": [
        "sns.set_theme()\n",
        "sns.lmplot(\n",
        "    data=df,\n",
        "    x=\"GarageArea\", y=\"SalePrice\",markers='x'\n",
        ").set\n"
      ]
    },
    {
      "cell_type": "markdown",
      "metadata": {},
      "source": [
        "Typically, sales prices increases with garage area."
      ]
    },
    {
      "cell_type": "markdown",
      "metadata": {},
      "source": [
        "**Kitchen Quality**"
      ]
    },
    {
      "cell_type": "code",
      "execution_count": null,
      "metadata": {},
      "outputs": [],
      "source": [
        "fig, axes = plt.subplots(nrows=1, ncols=1, figsize=(15,15))\n",
        "p = sns.boxplot(data=df, y='SalePrice', x='KitchenQual', order=['Fa','TA','Gd','Ex'])\n",
        "p.set_title(\"Sale Price vs Kitchen Quality\", fontsize=30)\n",
        "p.set_ylabel(\"Sale Price\", fontsize=20)\n",
        "p.set_xlabel(\"Kitchen Quality\", fontsize=20)\n",
        "\n",
        "# Save the figure\n",
        "# First, retrieve the title from the plot for use in the filename\n",
        "title = p.get_title()  # Correct way to get the title\n",
        "file_name = f\"{title.replace(' ', '_').lower()}.png\"  # Create a filename from the title\n",
        "p.figure.savefig('docs/images/' + file_name)  # Save the figure using the full path and filename\n",
        "\n",
        "# Show the plot\n",
        "plt.show()"
      ]
    },
    {
      "cell_type": "markdown",
      "metadata": {},
      "source": [
        "It is clear that better kitchen quality means better sale price"
      ]
    },
    {
      "cell_type": "markdown",
      "metadata": {},
      "source": [
        "**Overall Quality**"
      ]
    },
    {
      "cell_type": "code",
      "execution_count": null,
      "metadata": {},
      "outputs": [],
      "source": [
        "fig, axes = plt.subplots(nrows=1, ncols=1, figsize=(15,15))\n",
        "p=sns.boxplot(data=df, y='SalePrice', x='OverallQual')\n",
        "p.axes.set_title(\"Sale Price vs Overall Quality\", fontsize=30)\n",
        "p.axes.set_ylabel(\"Sale Price\",fontsize=20)\n",
        "p.axes.set_xlabel(\"Overall Quality\",fontsize=20)\n",
        "\n",
        "# Save the figure\n",
        "# First, retrieve the title from the plot for use in the filename\n",
        "title = p.get_title()  # Correct way to get the title\n",
        "file_name = f\"{title.replace(' ', '_').lower()}.png\"  # Create a filename from the title\n",
        "p.figure.savefig('docs/images/' + file_name)  # Save the figure using the full path and filename\n",
        "\n",
        "# Show the plot\n",
        "plt.show()"
      ]
    },
    {
      "cell_type": "markdown",
      "metadata": {},
      "source": [
        "There is a clear trend, where increase in quality lead to increase in sale price. The trend is obvious and realistic of physical world."
      ]
    },
    {
      "cell_type": "markdown",
      "metadata": {},
      "source": [
        "**Garage Finish**"
      ]
    },
    {
      "cell_type": "code",
      "execution_count": null,
      "metadata": {},
      "outputs": [],
      "source": [
        "fig, axes = plt.subplots(nrows=1, ncols=1, figsize=(15,15))\n",
        "p=sns.boxplot(data=df, y='SalePrice', x='GarageFinish', order=['None','Unf','RFn','Fin'])\n",
        "p.axes.set_title(\"Sale Price vs Garage Finish\", fontsize=30)\n",
        "p.axes.set_ylabel(\"Sale Price\",fontsize=20)\n",
        "p.axes.set_xlabel(\"Garage Finish\",fontsize=20)\n",
        "\n",
        "# Save the figure\n",
        "# First, retrieve the title from the plot for use in the filename\n",
        "title = p.get_title()  # Correct way to get the title\n",
        "file_name = f\"{title.replace(' ', '_').lower()}.png\"  # Create a filename from the title\n",
        "p.figure.savefig('docs/images/' + file_name)  # Save the figure using the full path and filename\n",
        "\n",
        "# Show the plot\n",
        "plt.show()\n",
        "\n"
      ]
    },
    {
      "cell_type": "markdown",
      "metadata": {},
      "source": [
        "Plot clearly shows a shift in meadian Sale price as Garage Finish quality increases"
      ]
    },
    {
      "cell_type": "markdown",
      "metadata": {},
      "source": [
        "**Year Built**"
      ]
    },
    {
      "cell_type": "code",
      "execution_count": null,
      "metadata": {},
      "outputs": [],
      "source": [
        "sns.set_theme()\n",
        "sns.set_context('paper')\n",
        "\n",
        "p=sns.lineplot(\n",
        "    data=df,\n",
        "    x=\"YearBuilt\", y=\"SalePrice\")#,robust= True\n",
        "    #)"
      ]
    },
    {
      "cell_type": "markdown",
      "metadata": {},
      "source": [
        "Looks like the house prices were relatively flat until 1950, and then started picking up."
      ]
    },
    {
      "cell_type": "markdown",
      "metadata": {},
      "source": [
        "# Conclusions"
      ]
    },
    {
      "cell_type": "markdown",
      "metadata": {
        "vscode": {
          "languageId": "latex"
        }
      },
      "source": [
        "Let's generate plots one more time, and save it to folder. The client might not understand the shorthand variables, hence it is imporatnt to show explicitly what it means.\n",
        "\n",
        "Let's combine the features found through correlation study and PPS score, plot them against sales price and save them.\n",
        "\n",
        "We have already saved boxplots for Garage Finish, Overall Quality and Kitchen qality. So, just need to reformat scatterplot and save them."
      ]
    },
    {
      "cell_type": "code",
      "execution_count": null,
      "metadata": {},
      "outputs": [],
      "source": [
        "dataset_cols = ['GrLivArea', 'TotalBsmtSF', '1stFlrSF', 'GarageArea','YearBuilt','GarageYrBlt']\n",
        "x_labels=['Ground Living Area', ' Total Basement Square Feet', 'First Floor Square Feet','Garage Area','Original Construction Year','Year Garage was built']\n",
        "titles=[\n",
        "    'Sale Price vs Ground Living Area',\n",
        "    'Sale Price vs Total Basement Square Feet',\n",
        "    'Sale Price vs First Floor Square Feet',\n",
        "    'Sale Price vs Garage Area',\n",
        "    'Sale Price vs Original Construction Year',\n",
        "    'Sale Price vs Year Garage was built'\n",
        "]\n",
        "\n",
        "tags = list(zip(dataset_cols,x_labels,titles))\n",
        "\n",
        "print(tags)"
      ]
    },
    {
      "cell_type": "code",
      "execution_count": null,
      "metadata": {},
      "outputs": [],
      "source": [
        "\n",
        "# Plot each variable in a separate subplot\n",
        "for dataset_col,x_label,title in tags:\n",
        "    sns.set_theme()\n",
        "    sns.set_context('paper')\n",
        "    plt.figure(figsize=(15, 15))  # Set the figure size for each subplot\n",
        "\n",
        "    if dataset_col in ('YearBuilt','GarageYrBlt'):\n",
        "        p=sns.lineplot(data=df,x=\"YearBuilt\", y=\"SalePrice\")\n",
        "\n",
        "        # Inspired from https://python-charts.com/seaborn/lines/\n",
        "        # Add a vertical line to seperate two trends\n",
        "        p.axvline(x=1950, color='black', linestyle='dashed')\n",
        "    else:\n",
        "        # set robust = True reduce the effect of outliers\n",
        "        p = sns.regplot(data=df, x=dataset_col, y=\"SalePrice\", marker='x', robust=True) \n",
        "    \n",
        "    p.set_title(title, fontsize=30)  # Setting title for each plot\n",
        "    \n",
        "    # set labels\n",
        "    plt.xlabel(x_label, fontsize=20)  # Optionally set the x-axis label\n",
        "    plt.ylabel('Sale Price', fontsize=20)  # Optionally set the y-axis label\n",
        "    \n",
        "\n",
        "    # Save the figure\n",
        "    # First, retrieve the title from the plot for use in the filename\n",
        "    title = p.get_title()  # Correct way to get the title\n",
        "    file_name = f\"{title.replace(' ', '_').lower()}.png\"  # Create a filename from the title\n",
        "    p.figure.savefig('docs/images/' + file_name)  # Save the figure using the full path and filename\n",
        "\n",
        "    # Show the plot\n",
        "    plt.show()"
      ]
    },
    {
      "cell_type": "markdown",
      "metadata": {},
      "source": []
    },
    {
      "cell_type": "markdown",
      "metadata": {},
      "source": [
        "# Data Profiling Master Summary\n",
        "Data profiling is not linear process, hence summarising all the conclusions derived in the sections below.\n",
        "**Data Quality**\n",
        "\n",
        "- No two rows are similar (zero duplicates)\n",
        "\n",
        "- All numerical variables confirms to range provided by metadata.\n",
        "\n",
        "- All categorical variables confirms to categories provided by metadata. However,\n",
        "    - There are no houses where Overall Condition excellent (OveralCond = 10)\n",
        "    - There are no houses where Overall Qual is poor (OverallQual = 1)\n",
        "    \n",
        "- ```SalePrice```which will be our target variable down the line, has zero missing values. Good news for analysis and prediction.\n",
        "\n",
        "- ```EnclosedPorch``` and ```WoodDeckSF``` columns have about 90% data missing. Consider to drop them for analysis.\n",
        "\n",
        "- ```['2ndFlrSF','MasVnrArea','OpenPorchSF']``` for each of these columns, significant data (45% -50%) contains 0 (zero) as value. Following analysis, it is concluded that this is random and unrelated and hence we will consider it nature of dataset.\n",
        "\n",
        "- Basement finish and Kitchen Quality are recorded seperately, but it may affect the Overall Quality, which is also recorded seperately.\n",
        "\n",
        "- All categorical variables are ordinal in nature.\n",
        "\n",
        "**Correlation of Sales Price with other variables**\n",
        "\n",
        "- Person and Spearman Correlation shows good correlation (greater than 0.6) between Sales Price and\n",
        "\n",
        "    - Above Ground Living Area (GrLivArea)\n",
        "\n",
        "    - Total square feet of Basement Area (TotalBsmtSF)\n",
        "\n",
        "    - 1st floor square feet (1stFlrSF)\n",
        "    \n",
        "    - Garage Area (GarageArea)\n",
        "\n",
        "\n",
        "**Predictive Power Score**\n",
        "\n",
        "PPS study shows that the following variables are moderate predictor of Sales Price\n",
        "\n",
        "```['GarageArea','GarageFinish','KitchenQual','YearBuilt']```.\n",
        "\n",
        "```OverallQual``` have better predicting power and boxplot shows it clearly that a good overall quality increases the price of the property.\n",
        "\n",
        "\n",
        "\n",
        "**Consise summary for stakeholders**\n",
        "\n",
        "- Higher overall quality, the higher the sale price.\n",
        "\n",
        "- Typically, the larger the house built-up area, the higher the sale price. It matters more than lot size. \n",
        "\n",
        "- House features such as a basement, first floor and garage add value to the house.\n",
        "\n",
        "- The higher the quality of a basement finish, the higher the sale price.\n",
        "\n",
        "- House prices are relatively flat upto 1950. After that, newer the house, the higher the sales price is.\n",
        "\n",
        "**Considerations for next steps**\n",
        "\n",
        "\n",
        "- ```LotFrontage```has 17.7 % missing values. However, ydata detailed profile report shows that it is  correlated with ```LotArea```, It also makes sense in physical world. Bigger the lot area, the higher the chances that LotFrontage (i.e. linear feet of street connected to property) is bigger. So, we can leverage this relation for missing data imputaion.\n",
        "\n",
        "- ```GarageFinish```has 11.1% missing values. However, ydata detailed profile report shows that it is  correlated with  ```GarageArea```. In phsyical world, they are independent. For example, a bigger garden does not nessarily mean high qality finish. So, we may have to look at other areas to find imputation strategies, for ex. distribution.\n",
        "\n",
        "- ```BsmtFinType1```has 7.8% missing values. However, ydata detailed profile report shows that it is  correlated with  ```BsmtExposure```. In physical world, \"walkout or garden level walls exposure level\" and \"quality of basement\" are independent. So, perhaps this correlation is just coinsidence. So, we may have to look at other strategies for data impuration, for ex. distribution.\n",
        "\n",
        "- ```BedroomAbvGr```has 6.8% missing values. However, It seems to be highly correlated with ```2ndFlrSF```and ```GrLivArea```. In physical world it does not make sense. Bedroom above ground has no relation with 2nd floor surface area and living area. So, we may have to look at other strategies for data impuration, for ex. distribution.\n",
        "\n",
        "- ```2ndFlrSF``` has 5.89% missing values. However, ydata detailed profile report shows that it is correlated with ```BedroomAbvGr```. As mentioned in previous bullet point, this does not make sense in physical world. So, we may have to look at other strategies for data impuration, for ex. distribtion.\n",
        "\n",
        "- ```GarageYrBlt```has 5.5% missing values. However, ydata detailed profile report shows that it is  correlated with  ```GarageArea``` , ```SalePrice```and ```YearRemodAdd```. In physical world, it may be possible that with time (GarageYrBlt), larger and larger (or smaller and smaller) garages were built. It is possible that with newer the garage, better the sales price. We can explore these relationships further for missing data imputation. \n",
        "\n",
        "- ```SalePrice``` has very high Skewness of 1.8 and very high Kurtosis of 6.5. We will need to apply transformations to deal with it.\n",
        "\n",
        "\n",
        "- 4 categorical variables have not been coded numerically.\n",
        "---"
      ]
    }
  ],
  "metadata": {
    "accelerator": "GPU",
    "colab": {
      "name": "Data Practitioner Jupyter Notebook.ipynb",
      "provenance": [],
      "toc_visible": true
    },
    "interpreter": {
      "hash": "8b8334dab9339717f727a1deaf837b322d7a41c20d15cc86be99a8e69ceec8ce"
    },
    "kernelspec": {
      "display_name": "Python 3.8.12 64-bit ('3.8.12': pyenv)",
      "name": "python3"
    },
    "language_info": {
      "codemirror_mode": {
        "name": "ipython",
        "version": 3
      },
      "file_extension": ".py",
      "mimetype": "text/x-python",
      "name": "python",
      "nbconvert_exporter": "python",
      "pygments_lexer": "ipython3",
      "version": "3.8.18"
    },
    "orig_nbformat": 2
  },
  "nbformat": 4,
  "nbformat_minor": 2
}
